{
 "cells": [
  {
   "cell_type": "markdown",
   "id": "f574f5b6-e710-4a30-9fb2-05b0361ab8bd",
   "metadata": {},
   "source": [
    "Who developed python programming language?"
   ]
  },
  {
   "cell_type": "markdown",
   "id": "c5e7ee71-9071-4858-b3dc-032aa0a6f251",
   "metadata": {},
   "source": [
    "Ans-Guido van Rossum"
   ]
  },
  {
   "cell_type": "markdown",
   "id": "933c4dd3-3b98-4fe8-8d84-adad081b2acf",
   "metadata": {},
   "source": [
    "which type of programming does python support?"
   ]
  },
  {
   "cell_type": "markdown",
   "id": "4c9194c1-ec4b-4737-8385-445a3c0d6de7",
   "metadata": {},
   "source": [
    "Ans- Python support object Oriented programming"
   ]
  },
  {
   "cell_type": "markdown",
   "id": "92981aa2-fa20-4808-82e3-d550dbd5baf7",
   "metadata": {},
   "source": [
    "Is Python case sensitive when dealing with identifiers?"
   ]
  },
  {
   "cell_type": "markdown",
   "id": "50101a69-72a9-4d7a-8d5b-d755fd561976",
   "metadata": {},
   "source": [
    "Ans-Yes"
   ]
  },
  {
   "cell_type": "markdown",
   "id": "83a1eea9-d9b2-48e5-bd0e-abb32940b1fe",
   "metadata": {},
   "source": [
    "What is the correct extension of the python file?"
   ]
  },
  {
   "cell_type": "markdown",
   "id": "c202b2b9-e94c-420e-957a-8745ef8eefa5",
   "metadata": {},
   "source": [
    "Ans-.py"
   ]
  },
  {
   "cell_type": "markdown",
   "id": "cc037b3f-180d-44e7-940d-03a192b79b6b",
   "metadata": {},
   "source": [
    "Is python code compiled or interpreted?"
   ]
  },
  {
   "cell_type": "markdown",
   "id": "0ed13cfd-ce19-4dd2-b56f-01bf1fb5e59c",
   "metadata": {},
   "source": [
    "Ans- Python is an interpreted language"
   ]
  },
  {
   "cell_type": "markdown",
   "id": "a4fb9530-b2e9-4752-b060-58c67e2416c9",
   "metadata": {},
   "source": [
    "Name a few blocks of code used to define in python language?\n"
   ]
  },
  {
   "cell_type": "markdown",
   "id": "0e9382d4-41ff-4a29-bc2f-6b9459904f53",
   "metadata": {},
   "source": [
    "Ans- A module, a function body and a classs definition"
   ]
  },
  {
   "cell_type": "markdown",
   "id": "5cd0a943-de4c-46a3-bf79-105331448b9e",
   "metadata": {},
   "source": [
    "State a character used to give single-line comments in python"
   ]
  },
  {
   "cell_type": "markdown",
   "id": "ad3d50ca-8daf-46e6-8c4b-bb67e606ae79",
   "metadata": {},
   "source": [
    "# hash symbol is used for single line comments in python"
   ]
  },
  {
   "cell_type": "markdown",
   "id": "b645f498-5607-4a9c-baa3-311e9d82f640",
   "metadata": {},
   "source": [
    "Mention functions which can help us to find the version of python that we are currtly working on "
   ]
  },
  {
   "cell_type": "markdown",
   "id": "be3c05f6-bcf3-428c-9216-19797391a698",
   "metadata": {},
   "source": [
    "Ans-python_version() using from platform import python_version"
   ]
  },
  {
   "cell_type": "markdown",
   "id": "5cb25ca4-48b2-4133-8c38-62b88e656ec7",
   "metadata": {},
   "source": [
    "Python supports the creation of anonymous functions at runtime, Using a construct called "
   ]
  },
  {
   "cell_type": "markdown",
   "id": "23c8e814-a88b-484a-be5f-8240f5a4965b",
   "metadata": {},
   "source": [
    "Ans- lambda"
   ]
  },
  {
   "cell_type": "markdown",
   "id": "67c9d57d-6703-45fe-ae8c-f384755ed934",
   "metadata": {},
   "source": [
    "What does pip stand for python?"
   ]
  },
  {
   "cell_type": "markdown",
   "id": "62ce047d-78b2-4be9-ac7b-97980764cfba",
   "metadata": {},
   "source": [
    "Ans- pip is an acronym of pip install packages"
   ]
  },
  {
   "cell_type": "markdown",
   "id": "ee048b73-b542-4692-aa95-67bf7ad50cd6",
   "metadata": {},
   "source": [
    "Mention few built in functions in python?"
   ]
  },
  {
   "cell_type": "markdown",
   "id": "02094638-89f2-452d-afbc-02c1ae9b51cf",
   "metadata": {},
   "source": [
    "Ans- print(),len(),list(),set(),map(),reduce(),lambda "
   ]
  },
  {
   "cell_type": "markdown",
   "id": "6c203fe9-72b0-4aaa-9fe4-f7e9a2240ef3",
   "metadata": {},
   "source": [
    "What is the maximum possible length of an identifier in Python?"
   ]
  },
  {
   "cell_type": "markdown",
   "id": "a773e428-c50f-45a3-8fa8-b45d77bca0a4",
   "metadata": {},
   "source": [
    "Ans-  79 characters"
   ]
  },
  {
   "cell_type": "markdown",
   "id": "b986d9a5-f571-48a9-b9dd-47506f7a6716",
   "metadata": {},
   "source": [
    "What are the benefits of using python?"
   ]
  },
  {
   "cell_type": "markdown",
   "id": "ab440fd3-4ad9-4186-b3fc-60f8bf44e1e1",
   "metadata": {},
   "source": [
    "Ans- Python is a dynamic language and it is well interpreted its synatax is easy to implement and easy to use so it is very popular"
   ]
  },
  {
   "cell_type": "markdown",
   "id": "bacad03b-637d-4319-99d0-97a6fc3cba46",
   "metadata": {},
   "source": [
    "How is memory managed in python?"
   ]
  },
  {
   "cell_type": "markdown",
   "id": "8bdde94c-610b-4fb1-a1c1-b6aad99035d4",
   "metadata": {},
   "source": [
    "Ans- Memory management in Python involves a private heap containing all Python objects and data structures. The management of this private heap is ensured internally by the Python memory manager."
   ]
  },
  {
   "cell_type": "markdown",
   "id": "f1cae29c-b015-41b0-aa65-b441a7f1dc8c",
   "metadata": {},
   "source": [
    "is indentation is required in python?"
   ]
  },
  {
   "cell_type": "markdown",
   "id": "a60f4487-80de-4b20-ab4a-4524b02b5d8f",
   "metadata": {},
   "source": [
    "Ans- yes\n"
   ]
  },
  {
   "cell_type": "code",
   "execution_count": null,
   "id": "2b286809-3560-4a34-b9d6-6bd63d5d08bf",
   "metadata": {},
   "outputs": [],
   "source": []
  }
 ],
 "metadata": {
  "kernelspec": {
   "display_name": "Python 3 (ipykernel)",
   "language": "python",
   "name": "python3"
  },
  "language_info": {
   "codemirror_mode": {
    "name": "ipython",
    "version": 3
   },
   "file_extension": ".py",
   "mimetype": "text/x-python",
   "name": "python",
   "nbconvert_exporter": "python",
   "pygments_lexer": "ipython3",
   "version": "3.10.8"
  }
 },
 "nbformat": 4,
 "nbformat_minor": 5
}
